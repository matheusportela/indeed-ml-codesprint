{
 "cells": [
  {
   "cell_type": "markdown",
   "metadata": {},
   "source": [
    "# Indeed Machine Learning CodeSprint"
   ]
  },
  {
   "cell_type": "markdown",
   "metadata": {},
   "source": [
    "Load the important packages:"
   ]
  },
  {
   "cell_type": "code",
   "execution_count": 25,
   "metadata": {
    "collapsed": false
   },
   "outputs": [],
   "source": [
    "import numpy as np\n",
    "import pandas as pd\n",
    "import sklearn\n",
    "import nltk"
   ]
  },
  {
   "cell_type": "markdown",
   "metadata": {},
   "source": [
    "## Data loading"
   ]
  },
  {
   "cell_type": "markdown",
   "metadata": {},
   "source": [
    "Load the training data:"
   ]
  },
  {
   "cell_type": "code",
   "execution_count": 26,
   "metadata": {
    "collapsed": false
   },
   "outputs": [],
   "source": [
    "import csv\n",
    "\n",
    "def load_train_data(filename):\n",
    "    X = []\n",
    "    y = []\n",
    "    \n",
    "    with open(filename) as fd:\n",
    "        reader = csv.reader(fd, delimiter='\\t')\n",
    "\n",
    "        # ignore header row\n",
    "        next(reader, None)\n",
    "        \n",
    "        for row in reader:\n",
    "            X.append(row[1])\n",
    "            y.append(row[0].split())\n",
    "\n",
    "    return np.array(X), np.array(y)\n",
    "\n",
    "X, y = load_train_data('../data/train.tsv')"
   ]
  },
  {
   "cell_type": "markdown",
   "metadata": {},
   "source": [
    "Show some input and output data:"
   ]
  },
  {
   "cell_type": "code",
   "execution_count": 27,
   "metadata": {
    "collapsed": false
   },
   "outputs": [
    {
     "name": "stdout",
     "output_type": "stream",
     "text": [
      "Input: THE COMPANY    Employer is a midstream service provider to the onshore Oil and Gas markets.  It is a a fast growing filtration technology company providing environmentally sound solutions to the E&P’s for water and drilling fluids management and recycling.    THE POSITION    The North Dakota Regional Technical Sales Representative reports directly to the VP of Sales and covers a territory that includes North Dakota and surrounding areas of South Dakota, Wyoming and Montana.  Specific duties for this position include but are not limited to:     Building sales volume within the established territory from existing and new accounts   Set up and maintain a strategic sales plan for the territory   Present technical presentations, product demonstrations & training   Maintain direct contact with customers, distributors and representatives   Prospect new customer contacts and referrals   Gather and record customer & competitor information   Provide accurate and updated forecasts for the territory   Identify new product opportunities   Build long-term relationships with customers, reps & distributors    CANDIDATE REQUIREMENT    The ideal candidate will possess technical degree, preferably in the oil & gas discipline and/or 5+ years of experience preferably with exploration and production companies (midstream service companies are a big plus).      Other desired requirements include but are not limited to:     Consistent record of superior sales results & experience closing sales   Proven ability to cold-call, develop relationships   Excellent written and verbal communication skills.    Strong computer skills, including Word, Excel, PowerPoint, e-mail, etc.   Strong work ethic and ability to work independently.   Must be willing to develop new business – not just maintain current accounts   Ability to travel extensively throughout assigned region    If you are a self-motivated individual with strong engineering, and leadership skills and a desire to build a stronger, more advanced organization we encourage you to apply.      Position is located in North Dakota, but sales representative could live as far away as Casper, Wyoming or Billings, Montana.     Successful candidates must pass a post offer background and drug screen.    EOE         \n",
      "\n",
      "Output: ['licence-needed', 'supervising-job', '5-plus-years-experience-needed']\n"
     ]
    }
   ],
   "source": [
    "print 'Input:', X[0]\n",
    "print\n",
    "print 'Output:', y[0]"
   ]
  },
  {
   "cell_type": "markdown",
   "metadata": {},
   "source": [
    "## Preprocessing definition"
   ]
  },
  {
   "cell_type": "markdown",
   "metadata": {},
   "source": [
    "Define input data preprocessor as bag-of-words and tf-idf feature extraction:\n",
    "\n",
    "- `CountVectorizer`: Transforms text to vector of occurrences for each word found in training set (bag-of-words representation).\n",
    "- `TfidfTransformer`: Transforms bag-of-words to its relative frequency, removing too frequent or rare words from the final representation."
   ]
  },
  {
   "cell_type": "code",
   "execution_count": 28,
   "metadata": {
    "collapsed": false
   },
   "outputs": [],
   "source": [
    "from sklearn.pipeline import Pipeline\n",
    "from sklearn.feature_extraction.text import CountVectorizer\n",
    "from sklearn.feature_extraction.text import TfidfTransformer\n",
    "\n",
    "X_preprocessor = Pipeline([\n",
    "    ('count', CountVectorizer(max_df=0.95, min_df=2)),\n",
    "    ('tfidf', TfidfTransformer())\n",
    "])"
   ]
  },
  {
   "cell_type": "markdown",
   "metadata": {},
   "source": [
    "Define multi-label binarizer for output data. Each target sample will be a binary array: 0 if not present, 1 otherwise."
   ]
  },
  {
   "cell_type": "code",
   "execution_count": 29,
   "metadata": {
    "collapsed": false
   },
   "outputs": [],
   "source": [
    "from sklearn.preprocessing import MultiLabelBinarizer\n",
    "\n",
    "y_preprocessors = {\n",
    "    'job': MultiLabelBinarizer(),\n",
    "    'wage': MultiLabelBinarizer(),\n",
    "    'degree': MultiLabelBinarizer(),\n",
    "    'experience': MultiLabelBinarizer(),\n",
    "    'supervising': MultiLabelBinarizer()\n",
    "}"
   ]
  },
  {
   "cell_type": "markdown",
   "metadata": {},
   "source": [
    "## Classifier definition"
   ]
  },
  {
   "cell_type": "markdown",
   "metadata": {},
   "source": [
    "Define classifier as SVM with one-vs-all strategy for multilabel classification."
   ]
  },
  {
   "cell_type": "code",
   "execution_count": 30,
   "metadata": {
    "collapsed": false
   },
   "outputs": [],
   "source": [
    "# F1 score: 0.422\n",
    "from sklearn.multiclass import OneVsRestClassifier\n",
    "from sklearn.svm import LinearSVC\n",
    "\n",
    "models = {\n",
    "    'job': OneVsRestClassifier(LinearSVC()),\n",
    "    'wage': OneVsRestClassifier(LinearSVC()),\n",
    "    'degree': OneVsRestClassifier(LinearSVC()),\n",
    "    'experience': OneVsRestClassifier(LinearSVC()),\n",
    "    'supervising': OneVsRestClassifier(LinearSVC())\n",
    "}"
   ]
  },
  {
   "cell_type": "markdown",
   "metadata": {},
   "source": [
    "## Model evaluation"
   ]
  },
  {
   "cell_type": "code",
   "execution_count": 31,
   "metadata": {
    "collapsed": false
   },
   "outputs": [],
   "source": [
    "# Separate targets for mutually exclusive tags\n",
    "def split_exclusive_tags(y):\n",
    "    split_y = {\n",
    "        'job': [],\n",
    "        'wage': [],\n",
    "        'degree': [],\n",
    "        'experience': [],\n",
    "        'supervising': []\n",
    "    }\n",
    "    \n",
    "    for target in y:\n",
    "        split_y['job'].append(filter(lambda x: x in ['part-time-job', 'full-time-job'], target))\n",
    "        split_y['wage'].append(filter(lambda x: x in ['hourly-wage', 'salary'], target))\n",
    "        split_y['degree'].append(filter(lambda x: x in ['associate-needed', 'bs-degree-needed', 'ms-or-phd-needed', 'licence-needed'], target))\n",
    "        split_y['experience'].append(filter(lambda x: x in ['1-year-experience-needed', '2-4-years-experience-needed', '5-plus-years-experience-needed'], target))\n",
    "        split_y['supervising'].append(filter(lambda x: x in ['supervising-job'], target))\n",
    "        \n",
    "    return split_y"
   ]
  },
  {
   "cell_type": "code",
   "execution_count": 32,
   "metadata": {
    "collapsed": true
   },
   "outputs": [],
   "source": [
    "def fit_models(models, X_preprocessor, y_preprocessors, X, y):\n",
    "    print 'Fitting models'\n",
    "    split_y = split_exclusive_tags(y)\n",
    "\n",
    "    for tag_type, model in models.items():\n",
    "        # Learn one preprocessor for each mutually exclusive tag\n",
    "        X_processed = X_preprocessor.fit_transform(X)\n",
    "        y_processed = y_preprocessors[tag_type].fit_transform(split_y[tag_type])\n",
    "        \n",
    "        # Learn one model for each mutually exclusive tag\n",
    "        model.fit(X_processed, y_processed)"
   ]
  },
  {
   "cell_type": "code",
   "execution_count": 33,
   "metadata": {
    "collapsed": false
   },
   "outputs": [],
   "source": [
    "def predict_models(models, X_preprocessor, y_preprocessors, X):\n",
    "    print 'Predicting with models'\n",
    "    \n",
    "    output = [[] for _ in X]\n",
    "    \n",
    "    for tag_type, model in models.items():\n",
    "        # Preprocess and use model for the given type of tag\n",
    "        X_processed = X_preprocessor.transform(X)\n",
    "        model_output = model.predict(X_processed)\n",
    "        \n",
    "        # Adjust in case the output is only 0 or 1 instead of an array\n",
    "        if len(model_output.shape) == 1:\n",
    "            model_output = model_output.tolist()\n",
    "            for i in range(len(model_output)):\n",
    "                model_output[i] = [model_output[i]]\n",
    "            model_output = np.array(model_output)\n",
    "        \n",
    "        tag_type_output = y_preprocessors[tag_type].inverse_transform(model_output)\n",
    "\n",
    "        # Aggregate outputs for all types of tags in the same array\n",
    "        for i, out in enumerate(tag_type_output):\n",
    "            if type(out) in [list, tuple]:\n",
    "                output[i].extend(out)\n",
    "            else:\n",
    "                output[i].append(out)\n",
    "\n",
    "    return output"
   ]
  },
  {
   "cell_type": "code",
   "execution_count": 34,
   "metadata": {
    "collapsed": false
   },
   "outputs": [],
   "source": [
    "def calculate_f1_score(y_test, y_output):\n",
    "    print 'Calculating F1 score'\n",
    "    \n",
    "    tags = ['part-time-job', 'full-time-job', 'hourly-wage', 'salary', 'associate-needed', 'bs-degree-needed',\n",
    "            'ms-or-phd-needed', 'licence-needed', '1-year-experience-needed', '2-4-years-experience-needed',\n",
    "            '5-plus-years-experience-needed', 'supervising-job']\n",
    "\n",
    "    true_positive = np.array([0.0 for _ in tags])\n",
    "    true_negative = np.array([0.0 for _ in tags])\n",
    "    false_positive = np.array([0.0 for _ in tags])\n",
    "    false_negative = np.array([0.0 for _ in tags])\n",
    "    \n",
    "    for target, output in zip(y_test, y_output):\n",
    "        for i, tag in enumerate(tags):\n",
    "            if tag in target and tag in output:\n",
    "                true_positive[i] += 1\n",
    "            elif tag not in target and tag not in output:\n",
    "                true_negative[i] += 1\n",
    "            elif tag in target and tag not in output:\n",
    "                false_negative[i] += 1\n",
    "            elif tag not in target and tag in output:\n",
    "                false_positive[i] += 1\n",
    "            else:\n",
    "                raise Exception('Unknown situation - tag: {} target: {} output: {}'.format(tag, target, output))\n",
    "                \n",
    "    tags_precision = np.array([0.0 for _ in tags])\n",
    "    tags_recall = np.array([0.0 for _ in tags])\n",
    "    tags_f1_score = np.array([0.0 for _ in tags])\n",
    "    \n",
    "    for i, tag in enumerate(tags):\n",
    "        tags_precision[i] = true_positive[i] / (true_positive[i] + false_positive[i])\n",
    "        tags_recall[i] = true_positive[i] / (true_positive[i] + false_negative[i])\n",
    "        tags_f1_score[i] = 2*tags_precision[i]*tags_recall[i] / (tags_precision[i] + tags_recall[i])\n",
    "        \n",
    "    min_tags_precision = np.argmin(tags_precision)\n",
    "    min_tags_recall = np.argmin(tags_recall)\n",
    "    min_tags_f1_score = np.argmin(tags_f1_score)\n",
    "    \n",
    "    print 'Tags:', tags\n",
    "    print 'Precision:', tags_precision\n",
    "    print 'Recall:', tags_recall\n",
    "    print 'F1 score:', tags_f1_score\n",
    "    print\n",
    "    \n",
    "    print 'Worst precision:', tags[min_tags_precision]\n",
    "    print 'Worst recall:', tags[min_tags_recall]\n",
    "    print 'Worst F1 score:', tags[min_tags_f1_score]\n",
    "    print\n",
    "        \n",
    "    precision = np.sum(true_positive) / (np.sum(true_positive) + np.sum(false_positive))\n",
    "    recall = np.sum(true_positive) / (np.sum(true_positive) + np.sum(false_negative))\n",
    "    f1_score = 2*precision*recall / (precision + recall)\n",
    "    \n",
    "    print 'General:'\n",
    "    print 'Precision: {0:.3f}'.format(precision)\n",
    "    print 'Recall: {0:.3f}'.format(recall)\n",
    "    print 'F1 score: {0:.3f}'.format(f1_score)\n",
    "    \n",
    "    return f1_score"
   ]
  },
  {
   "cell_type": "markdown",
   "metadata": {},
   "source": [
    "Calculate F1 score with cross-validation:"
   ]
  },
  {
   "cell_type": "code",
   "execution_count": 35,
   "metadata": {
    "collapsed": false
   },
   "outputs": [
    {
     "name": "stdout",
     "output_type": "stream",
     "text": [
      "Fitting models\n",
      "Predicting with models\n",
      "Calculating F1 score\n",
      "Tags: ['part-time-job', 'full-time-job', 'hourly-wage', 'salary', 'associate-needed', 'bs-degree-needed', 'ms-or-phd-needed', 'licence-needed', '1-year-experience-needed', '2-4-years-experience-needed', '5-plus-years-experience-needed', 'supervising-job']\n",
      "Precision: [ 0.625       0.67948718  0.75        0.65333333         nan  0.77294686\n",
      "  1.          0.66666667  0.77777778  0.53488372  0.56043956  0.7254902 ]\n",
      "Recall: [ 0.2173913   0.31736527  0.34177215  0.33793103  0.          0.64\n",
      "  0.04545455  0.36190476  0.12068966  0.27710843  0.34931507  0.43786982]\n",
      "F1 score: [ 0.32258065  0.43265306  0.46956522  0.44545455         nan  0.70021882\n",
      "  0.08695652  0.4691358   0.20895522  0.36507937  0.43037975  0.54612546]\n",
      "\n",
      "Worst precision: associate-needed\n",
      "Worst recall: associate-needed\n",
      "Worst F1 score: associate-needed\n",
      "\n",
      "General:\n",
      "Precision: 0.673\n",
      "Recall: 0.363\n",
      "F1 score: 0.471\n",
      "#0: 0.471359860079\n",
      "\n",
      "Fitting models\n"
     ]
    },
    {
     "name": "stderr",
     "output_type": "stream",
     "text": [
      "/usr/local/lib/python2.7/site-packages/ipykernel/__main__.py:31: RuntimeWarning: invalid value encountered in double_scalars\n"
     ]
    },
    {
     "name": "stdout",
     "output_type": "stream",
     "text": [
      "Predicting with models\n",
      "Calculating F1 score\n",
      "Tags: ['part-time-job', 'full-time-job', 'hourly-wage', 'salary', 'associate-needed', 'bs-degree-needed', 'ms-or-phd-needed', 'licence-needed', '1-year-experience-needed', '2-4-years-experience-needed', '5-plus-years-experience-needed', 'supervising-job']\n",
      "Precision: [ 0.88235294  0.59782609  0.82926829  0.64912281  0.33333333  0.74556213\n",
      "         nan  0.69387755  0.          0.52941176  0.66216216  0.65934066]\n",
      "Recall: [ 0.24590164  0.3125      0.45333333  0.29365079  0.02941176  0.63        0.\n",
      "  0.30088496  0.          0.29166667  0.34507042  0.38461538]\n",
      "F1 score: [ 0.38461538  0.41044776  0.5862069   0.40437158  0.05405405  0.68292683\n",
      "         nan  0.41975309         nan  0.3761194   0.4537037   0.48582996]\n",
      "\n",
      "Worst precision: ms-or-phd-needed\n",
      "Worst recall: ms-or-phd-needed\n",
      "Worst F1 score: ms-or-phd-needed\n",
      "\n",
      "General:\n",
      "Precision: 0.660\n",
      "Recall: 0.343\n",
      "F1 score: 0.451\n",
      "#1: 0.451213707758\n",
      "\n",
      "Fitting models\n"
     ]
    },
    {
     "name": "stderr",
     "output_type": "stream",
     "text": [
      "/usr/local/lib/python2.7/site-packages/ipykernel/__main__.py:33: RuntimeWarning: invalid value encountered in double_scalars\n"
     ]
    },
    {
     "name": "stdout",
     "output_type": "stream",
     "text": [
      "Predicting with models\n",
      "Calculating F1 score\n",
      "Tags: ['part-time-job', 'full-time-job', 'hourly-wage', 'salary', 'associate-needed', 'bs-degree-needed', 'ms-or-phd-needed', 'licence-needed', '1-year-experience-needed', '2-4-years-experience-needed', '5-plus-years-experience-needed', 'supervising-job']\n",
      "Precision: [ 0.85185185  0.6627907   0.86666667  0.72727273         nan  0.77348066\n",
      "         nan  0.59259259  1.          0.49640288  0.65714286  0.68571429]\n",
      "Recall: [ 0.31506849  0.33333333  0.39795918  0.25        0.          0.68627451\n",
      "  0.          0.36781609  0.03225806  0.33333333  0.36507937  0.51798561]\n",
      "F1 score: [ 0.46        0.44357977  0.54545455  0.37209302         nan  0.72727273\n",
      "         nan  0.45390071  0.0625      0.39884393  0.46938776  0.59016393]\n",
      "\n",
      "Worst precision: associate-needed\n",
      "Worst recall: associate-needed\n",
      "Worst F1 score: associate-needed\n",
      "\n",
      "General:\n",
      "Precision: 0.680\n",
      "Recall: 0.379\n",
      "F1 score: 0.486\n",
      "#2: 0.486460807601\n",
      "\n",
      "Fitting models\n",
      "Predicting with models\n",
      "Calculating F1 score\n",
      "Tags: ['part-time-job', 'full-time-job', 'hourly-wage', 'salary', 'associate-needed', 'bs-degree-needed', 'ms-or-phd-needed', 'licence-needed', '1-year-experience-needed', '2-4-years-experience-needed', '5-plus-years-experience-needed', 'supervising-job']\n",
      "Precision: [ 0.75        0.55913978  0.78181818  0.61538462  1.          0.81208054\n",
      "         nan  0.70149254  0.8         0.48461538  0.6031746   0.72093023]\n",
      "Recall: [ 0.23076923  0.2826087   0.40952381  0.26666667  0.02222222  0.70760234\n",
      "  0.          0.38211382  0.09638554  0.32642487  0.32478632  0.40522876]\n",
      "F1 score: [ 0.35294118  0.37545126  0.5375      0.37209302  0.04347826  0.75625\n",
      "         nan  0.49473684  0.17204301  0.39009288  0.42222222  0.51882845]\n",
      "\n",
      "Worst precision: ms-or-phd-needed\n",
      "Worst recall: ms-or-phd-needed\n",
      "Worst F1 score: ms-or-phd-needed\n",
      "\n",
      "General:\n",
      "Precision: 0.664\n",
      "Recall: 0.350\n",
      "F1 score: 0.458\n",
      "#3: 0.458412098299\n",
      "\n",
      "Fitting models\n",
      "Predicting with models\n",
      "Calculating F1 score\n",
      "Tags: ['part-time-job', 'full-time-job', 'hourly-wage', 'salary', 'associate-needed', 'bs-degree-needed', 'ms-or-phd-needed', 'licence-needed', '1-year-experience-needed', '2-4-years-experience-needed', '5-plus-years-experience-needed', 'supervising-job']\n",
      "Precision: [ 0.85714286  0.64556962  0.72916667  0.67741935         nan  0.75        1.\n",
      "  0.57627119  0.53846154  0.49122807  0.62264151  0.7032967 ]\n",
      "Recall: [ 0.34285714  0.27272727  0.37234043  0.28        0.          0.64137931\n",
      "  0.14285714  0.35416667  0.11290323  0.31460674  0.31428571  0.47761194]\n",
      "F1 score: [ 0.48979592  0.38345865  0.49295775  0.39622642         nan  0.69144981\n",
      "  0.25        0.43870968  0.18666667  0.38356164  0.41772152  0.56888889]\n",
      "\n",
      "Worst precision: associate-needed\n",
      "Worst recall: associate-needed\n",
      "Worst F1 score: associate-needed\n",
      "\n",
      "General:\n",
      "Precision: 0.655\n",
      "Recall: 0.346\n",
      "F1 score: 0.453\n",
      "#4: 0.453237410072\n",
      "\n",
      "Total F1 score: 0.464\n"
     ]
    }
   ],
   "source": [
    "from sklearn.model_selection import KFold\n",
    "from sklearn.metrics import f1_score\n",
    "\n",
    "scores = []\n",
    "k_fold = KFold(n_splits=5)\n",
    "\n",
    "for i, (train, validation) in enumerate(k_fold.split(X)):\n",
    "    X_train, X_validation, y_train, y_validation = X[train], X[validation], y[train], y[validation]\n",
    "\n",
    "    fit_models(models, X_preprocessor, y_preprocessors, X_train, y_train)\n",
    "    y_output = predict_models(models, X_preprocessor, y_preprocessors, X_validation)\n",
    "    \n",
    "    score = calculate_f1_score(y_validation, y_output)\n",
    "    scores.append(score)\n",
    "    print '#{}: {}'.format(i, score)\n",
    "    print\n",
    "    \n",
    "f1_score = np.mean(scores)\n",
    "    \n",
    "print 'Total F1 score: {0:.3f}'.format(f1_score)"
   ]
  },
  {
   "cell_type": "markdown",
   "metadata": {},
   "source": [
    "## Model usage"
   ]
  },
  {
   "cell_type": "markdown",
   "metadata": {},
   "source": [
    "Load the data:"
   ]
  },
  {
   "cell_type": "code",
   "execution_count": 36,
   "metadata": {
    "collapsed": false
   },
   "outputs": [],
   "source": [
    "def load_test_data(filename):\n",
    "    with open(filename) as fd:\n",
    "        reader = csv.reader(fd, delimiter='\\t')\n",
    "        next(reader, None) # ignore header row\n",
    "        X = [row[0] for row in reader]\n",
    "\n",
    "    return np.array(X)\n",
    "\n",
    "X_train, y_train = load_train_data('../data/train.tsv')\n",
    "X_test = load_test_data('../data/test.tsv')"
   ]
  },
  {
   "cell_type": "markdown",
   "metadata": {},
   "source": [
    "Train the model with all training data:"
   ]
  },
  {
   "cell_type": "code",
   "execution_count": 37,
   "metadata": {
    "collapsed": false
   },
   "outputs": [
    {
     "name": "stdout",
     "output_type": "stream",
     "text": [
      "Fitting models\n"
     ]
    }
   ],
   "source": [
    "fit_models(models, X_preprocessor, y_preprocessors, X_train, y_train)"
   ]
  },
  {
   "cell_type": "markdown",
   "metadata": {},
   "source": [
    "Predict output from test data:"
   ]
  },
  {
   "cell_type": "code",
   "execution_count": 38,
   "metadata": {
    "collapsed": false
   },
   "outputs": [
    {
     "name": "stdout",
     "output_type": "stream",
     "text": [
      "Predicting with models\n"
     ]
    }
   ],
   "source": [
    "y_output = predict_models(models, X_preprocessor, y_preprocessors, X_validation)"
   ]
  },
  {
   "cell_type": "markdown",
   "metadata": {},
   "source": [
    "Show some output data:"
   ]
  },
  {
   "cell_type": "code",
   "execution_count": 39,
   "metadata": {
    "collapsed": false
   },
   "outputs": [
    {
     "name": "stdout",
     "output_type": "stream",
     "text": [
      "[[], ['salary', 'supervising-job', '2-4-years-experience-needed', 'bs-degree-needed'], ['hourly-wage', 'full-time-job'], ['part-time-job'], ['5-plus-years-experience-needed'], [], ['hourly-wage', 'part-time-job'], ['hourly-wage', 'full-time-job'], ['hourly-wage'], []]\n"
     ]
    }
   ],
   "source": [
    "print y_output[:10]"
   ]
  },
  {
   "cell_type": "markdown",
   "metadata": {},
   "source": [
    "Save output data:"
   ]
  },
  {
   "cell_type": "code",
   "execution_count": 40,
   "metadata": {
    "collapsed": false
   },
   "outputs": [],
   "source": [
    "def save_output(filename, output):\n",
    "    with open(filename, 'w') as fd:\n",
    "        fd.write('tags\\n')\n",
    "        \n",
    "        for i, tags in enumerate(output):\n",
    "            fd.write(' '.join(tags))\n",
    "            \n",
    "            if i < len(output) - 1:\n",
    "                fd.write('\\n')\n",
    "            \n",
    "save_output('../data/tags.tsv', y_output)"
   ]
  },
  {
   "cell_type": "markdown",
   "metadata": {},
   "source": [
    "Save preprocessors and model:"
   ]
  },
  {
   "cell_type": "code",
   "execution_count": 41,
   "metadata": {
    "collapsed": false
   },
   "outputs": [],
   "source": [
    "import pickle\n",
    "\n",
    "def save(filename, obj):\n",
    "    pickle.dump(obj, open(filename, 'w'))\n",
    "\n",
    "save('../models/X_preprocessor.pickle', X_preprocessor)\n",
    "save('../models/y_preprocessor.pickle', y_preprocessors)\n",
    "save('../models/clf_{0:.3f}_f1_score.pickle'.format(f1_score), models)"
   ]
  },
  {
   "cell_type": "markdown",
   "metadata": {},
   "source": [
    "## Load saved model"
   ]
  },
  {
   "cell_type": "code",
   "execution_count": 42,
   "metadata": {
    "collapsed": false
   },
   "outputs": [],
   "source": [
    "def load(filename):\n",
    "    return pickle.load(open(filename))\n",
    "\n",
    "models = load('../models/clf_0.461_f1_score.pickle')\n",
    "X_preprocessors = load('../models/X_preprocessor.pickle')\n",
    "y_preprocessors = load('../models/y_preprocessor.pickle')"
   ]
  }
 ],
 "metadata": {
  "kernelspec": {
   "display_name": "Python 2",
   "language": "python",
   "name": "python2"
  },
  "language_info": {
   "codemirror_mode": {
    "name": "ipython",
    "version": 2
   },
   "file_extension": ".py",
   "mimetype": "text/x-python",
   "name": "python",
   "nbconvert_exporter": "python",
   "pygments_lexer": "ipython2",
   "version": "2.7.12"
  }
 },
 "nbformat": 4,
 "nbformat_minor": 1
}
