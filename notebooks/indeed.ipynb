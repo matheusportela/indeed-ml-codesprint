{
 "cells": [
  {
   "cell_type": "markdown",
   "metadata": {},
   "source": [
    "# Indeed Machine Learning CodeSprint"
   ]
  },
  {
   "cell_type": "markdown",
   "metadata": {},
   "source": [
    "Load the important packages:"
   ]
  },
  {
   "cell_type": "code",
   "execution_count": 1,
   "metadata": {
    "collapsed": false
   },
   "outputs": [],
   "source": [
    "import numpy as np\n",
    "import pandas as pd\n",
    "import sklearn\n",
    "import nltk"
   ]
  },
  {
   "cell_type": "markdown",
   "metadata": {},
   "source": [
    "## Data loading"
   ]
  },
  {
   "cell_type": "markdown",
   "metadata": {},
   "source": [
    "Load the training data:"
   ]
  },
  {
   "cell_type": "code",
   "execution_count": 2,
   "metadata": {
    "collapsed": false
   },
   "outputs": [],
   "source": [
    "import csv\n",
    "\n",
    "def load_train_data(filename):\n",
    "    X = []\n",
    "    y = []\n",
    "    \n",
    "    with open(filename) as fd:\n",
    "        reader = csv.reader(fd, delimiter='\\t')\n",
    "\n",
    "        # ignore header row\n",
    "        next(reader, None)\n",
    "        \n",
    "        for row in reader:\n",
    "            X.append(row[1])\n",
    "            y.append(row[0].split())\n",
    "\n",
    "    return np.array(X), np.array(y)\n",
    "\n",
    "X, y = load_train_data('../data/train.tsv')"
   ]
  },
  {
   "cell_type": "markdown",
   "metadata": {},
   "source": [
    "Show some input and output data:"
   ]
  },
  {
   "cell_type": "code",
   "execution_count": 3,
   "metadata": {
    "collapsed": false
   },
   "outputs": [
    {
     "name": "stdout",
     "output_type": "stream",
     "text": [
      "Data #0\n",
      "\n",
      "Input: THE COMPANY    Employer is a midstream service provider to the onshore Oil and Gas markets.  It is a a fast growing filtration technology company providing environmentally sound solutions to the E&P’s for water and drilling fluids management and recycling.    THE POSITION    The North Dakota Regional Technical Sales Representative reports directly to the VP of Sales and covers a territory that includes North Dakota and surrounding areas of South Dakota, Wyoming and Montana.  Specific duties for this position include but are not limited to:     Building sales volume within the established territory from existing and new accounts   Set up and maintain a strategic sales plan for the territory   Present technical presentations, product demonstrations & training   Maintain direct contact with customers, distributors and representatives   Prospect new customer contacts and referrals   Gather and record customer & competitor information   Provide accurate and updated forecasts for the territory   Identify new product opportunities   Build long-term relationships with customers, reps & distributors    CANDIDATE REQUIREMENT    The ideal candidate will possess technical degree, preferably in the oil & gas discipline and/or 5+ years of experience preferably with exploration and production companies (midstream service companies are a big plus).      Other desired requirements include but are not limited to:     Consistent record of superior sales results & experience closing sales   Proven ability to cold-call, develop relationships   Excellent written and verbal communication skills.    Strong computer skills, including Word, Excel, PowerPoint, e-mail, etc.   Strong work ethic and ability to work independently.   Must be willing to develop new business – not just maintain current accounts   Ability to travel extensively throughout assigned region    If you are a self-motivated individual with strong engineering, and leadership skills and a desire to build a stronger, more advanced organization we encourage you to apply.      Position is located in North Dakota, but sales representative could live as far away as Casper, Wyoming or Billings, Montana.     Successful candidates must pass a post offer background and drug screen.    EOE         \n",
      "\n",
      "Output: ['licence-needed', 'supervising-job', '5-plus-years-experience-needed']\n",
      "\n",
      "Data #1\n",
      "\n",
      "Input: ICR Staffing is now accepting resumes for Industrial Maintenance Mechanics. This is an experienced position, requiring prior hands-on, working experience. Successful candidates will possess a positive, high-energy and professional attitude with a strong desire to work and achieve. The position is located in the southern California, Inland-Empire, is full-time and offers a starting salary of 43 - 53K per year, D.O.E. This position is temp-to-hire, though for highly qualified candidates there is potential for direct hire to include benefits.  Successful Maintenance Mechanics will possess…  … 3-5 years hands-on, MANUFACTURING  or PLASTICS industry experience.  … knowledge and experience with; hydraulics, pneumatics, pumps, valves, cylinders, scales, conveyors.  … electrical knowledge of; AC/DC motor controls and drives, control circuitry.   … ability to read schematics, maintain electrical systems up to 480V 3-phase, run conduit and pull wire.  … ability to perform PLC troubleshooting  … knowledge of welding (S/S, MIG, TIG), fabrication and use of machine shop equipment  … ability to work nights and/or compressed/ alternate workweeks, which may involve 10-12 hour shifts  … a high-energy, safety-conscious work ethic.  … a courteous, professional attitude.  … excellent communication skills; verbal and written, as well as, with internal & external customers; management, peers, customers and vendors.  … a prior work history that demonstrates dependable work performance and attendance.  … ability to receive direction and carry out assigned tasks with minimal supervisor intervention.  … critical thinking skills and a troubleshooting approach to equipment maintenance.  … ability to work well with other team members or on an individual basis, based on the assigned task.  … a ‘Team-oriented’ mind-set with a willingness to perform other tasks and to do ‘whatever it takes’ to get the job done.  … ability to safely lift 40-50 lbs, continually during the course of a shift and up to 75 lbs on an infrequent basis, as required   Additional Details:  Interested applicants will be asked to complete an application for employment. Upon completion we will determine level of experience.  If an applicant meets the necessary qualification(s) we may invite you to complete the remainder of the process.  Drug test and background will be completed on site. The full application and screening process, on average, can take up to two hours.  Please be sure to arrive prepared and dressed appropriately for an interview (We ask that candidates not arrive in any of the following; no sandals/flip-flops, no shorts or workout attire, no tank-tops/sleeve-less shirts or dresses and no hats or headgear).  To complete the process applicants must satisfy the Federal I-9, Employment Verification requirement. Applicants must provide an ID/ IDs which establish identity and eligibility to work in the United States.  If you do not meet these requirements you may be asked to return at a later date.\n",
      "\n",
      "Output: ['2-4-years-experience-needed', 'salary', 'full-time-job']\n",
      "\n",
      "Data #2\n",
      "\n",
      "Input: This is a great position for the right person. HEALTHCAREseeker.com (www.example.com)  is an established company that places Registered Nurses into Hospitals on long term temporary positions. We have been in business since 2002 and have achieved INC500 fastest gorwing status. Our industry is starting to boom again!  We are looking to bring on a part time inside sales person who will be calling on Hospitals to land contracts and work with our team of nurse recruiters. If you perform well in this position then full time employment will be offered.   Qualifications: Outgoing and talkative, highly motivated, very reliable, have excellent communication skills, like being on the phone 100% of the time. Enjoys working on a team.   Hours are 10am-3pm or 11am-4pm or 12pm-5pm. Monday - Friday\n",
      "\n",
      "Output: ['part-time-job']\n",
      "\n"
     ]
    }
   ],
   "source": [
    "for i in range(3):\n",
    "    print 'Data #{}'.format(i)\n",
    "    print\n",
    "    print 'Input:', X[i]\n",
    "    print\n",
    "    print 'Output:', y[i]\n",
    "    print"
   ]
  },
  {
   "cell_type": "markdown",
   "metadata": {},
   "source": [
    "## Preprocessing definition"
   ]
  },
  {
   "cell_type": "markdown",
   "metadata": {},
   "source": [
    "Define input data preprocessor as bag-of-words and tf-idf feature extraction:\n",
    "\n",
    "- `CountVectorizer`: Transforms text to vector of occurrences for each word found in training set (bag-of-words representation).\n",
    "- `TfidfTransformer`: Transforms bag-of-words to its relative frequency, removing too frequent or rare words from the final representation."
   ]
  },
  {
   "cell_type": "code",
   "execution_count": 4,
   "metadata": {
    "collapsed": false
   },
   "outputs": [],
   "source": [
    "from sklearn.pipeline import Pipeline\n",
    "from sklearn.feature_extraction.text import CountVectorizer\n",
    "from sklearn.feature_extraction.text import TfidfTransformer\n",
    "\n",
    "X_preprocessor = Pipeline([\n",
    "    ('count', CountVectorizer()),\n",
    "    ('tfidf', TfidfTransformer())\n",
    "])"
   ]
  },
  {
   "cell_type": "markdown",
   "metadata": {},
   "source": [
    "Define multi-label binarizer for output data. Each target sample will be a binary array: 0 if not present, 1 otherwise."
   ]
  },
  {
   "cell_type": "code",
   "execution_count": 5,
   "metadata": {
    "collapsed": false
   },
   "outputs": [],
   "source": [
    "from sklearn.preprocessing import MultiLabelBinarizer\n",
    "\n",
    "y_preprocessor = MultiLabelBinarizer()"
   ]
  },
  {
   "cell_type": "markdown",
   "metadata": {},
   "source": [
    "## Classifier definition"
   ]
  },
  {
   "cell_type": "markdown",
   "metadata": {},
   "source": [
    "Define classifier as SVM with one-vs-all strategy for multilabel classification."
   ]
  },
  {
   "cell_type": "code",
   "execution_count": 6,
   "metadata": {
    "collapsed": false
   },
   "outputs": [],
   "source": [
    "from sklearn.multiclass import OneVsRestClassifier\n",
    "from sklearn.svm import LinearSVC\n",
    "\n",
    "clf = Pipeline([\n",
    "    ('svc', OneVsRestClassifier(LinearSVC()))\n",
    "])"
   ]
  },
  {
   "cell_type": "markdown",
   "metadata": {},
   "source": [
    "## Model evaluation"
   ]
  },
  {
   "cell_type": "markdown",
   "metadata": {},
   "source": [
    "Calculate F1 score with cross-validation:"
   ]
  },
  {
   "cell_type": "code",
   "execution_count": 7,
   "metadata": {
    "collapsed": false
   },
   "outputs": [
    {
     "name": "stdout",
     "output_type": "stream",
     "text": [
      "F1 score: 0.461\n"
     ]
    }
   ],
   "source": [
    "from sklearn.model_selection import KFold\n",
    "from sklearn.metrics import f1_score\n",
    "\n",
    "scores = []\n",
    "k_fold = KFold(n_splits=5)\n",
    "\n",
    "for train, validation in k_fold.split(X):\n",
    "    X_train, X_validation, y_train, y_validation = X[train], X[validation], y[train], y[validation]\n",
    "    \n",
    "    X_train_processed = X_preprocessor.fit_transform(X_train)\n",
    "    X_validation_preprocessed = X_preprocessor.transform(X_validation)\n",
    "    \n",
    "    y_train_processed = y_preprocessor.fit_transform(y_train)\n",
    "    y_validation_processed = y_preprocessor.transform(y_validation)\n",
    "    \n",
    "    clf.fit(X_train_processed, y_train_processed)\n",
    "    y_output = clf.predict(X_validation_preprocessed)\n",
    "    \n",
    "    scores.append(f1_score(y_validation_processed, y_output, average='micro'))\n",
    "    \n",
    "f1_score = np.mean(scores)\n",
    "    \n",
    "print 'F1 score: {0:.3f}'.format(f1_score)"
   ]
  },
  {
   "cell_type": "markdown",
   "metadata": {},
   "source": [
    "## Model usage"
   ]
  },
  {
   "cell_type": "markdown",
   "metadata": {},
   "source": [
    "Load the data:"
   ]
  },
  {
   "cell_type": "code",
   "execution_count": 8,
   "metadata": {
    "collapsed": false
   },
   "outputs": [],
   "source": [
    "def load_test_data(filename):\n",
    "    with open(filename) as fd:\n",
    "        reader = csv.reader(fd, delimiter='\\t')\n",
    "        next(reader, None) # ignore header row\n",
    "        X = [row[0] for row in reader]\n",
    "\n",
    "    return np.array(X)\n",
    "\n",
    "X_train, y_train = load_train_data('../data/train.tsv')\n",
    "X_test = load_test_data('../data/test.tsv')"
   ]
  },
  {
   "cell_type": "markdown",
   "metadata": {},
   "source": [
    "Train the model with all training data:"
   ]
  },
  {
   "cell_type": "code",
   "execution_count": 9,
   "metadata": {
    "collapsed": false
   },
   "outputs": [
    {
     "data": {
      "text/plain": [
       "Pipeline(steps=[('svc', OneVsRestClassifier(estimator=LinearSVC(C=1.0, class_weight=None, dual=True, fit_intercept=True,\n",
       "     intercept_scaling=1, loss='squared_hinge', max_iter=1000,\n",
       "     multi_class='ovr', penalty='l2', random_state=None, tol=0.0001,\n",
       "     verbose=0),\n",
       "          n_jobs=1))])"
      ]
     },
     "execution_count": 9,
     "metadata": {},
     "output_type": "execute_result"
    }
   ],
   "source": [
    "X_train_processed = X_preprocessor.fit_transform(X_train)\n",
    "X_test_processed = X_preprocessor.transform(X_test)\n",
    "y_train_processed = y_preprocessor.fit_transform(y_train)\n",
    "clf.fit(X_train_processed, y_train_processed)"
   ]
  },
  {
   "cell_type": "markdown",
   "metadata": {},
   "source": [
    "Predict output from test data:"
   ]
  },
  {
   "cell_type": "code",
   "execution_count": 10,
   "metadata": {
    "collapsed": true
   },
   "outputs": [],
   "source": [
    "y_output_processed = clf.predict(X_test_processed)\n",
    "y_output = [list(y) for y in y_preprocessor.inverse_transform(y_output_processed)]"
   ]
  },
  {
   "cell_type": "markdown",
   "metadata": {},
   "source": [
    "Show some output data:"
   ]
  },
  {
   "cell_type": "code",
   "execution_count": 11,
   "metadata": {
    "collapsed": false
   },
   "outputs": [
    {
     "name": "stdout",
     "output_type": "stream",
     "text": [
      "[['licence-needed'], ['hourly-wage'], [], [], ['2-4-years-experience-needed'], [], [], ['2-4-years-experience-needed', 'bs-degree-needed'], ['bs-degree-needed'], []]\n"
     ]
    }
   ],
   "source": [
    "print y_output[:10]"
   ]
  },
  {
   "cell_type": "markdown",
   "metadata": {},
   "source": [
    "Save output data:"
   ]
  },
  {
   "cell_type": "code",
   "execution_count": 12,
   "metadata": {
    "collapsed": false
   },
   "outputs": [],
   "source": [
    "def save_output(filename, output):\n",
    "    with open(filename, 'w') as fd:\n",
    "        fd.write('tags\\n')\n",
    "        \n",
    "        for i, tags in enumerate(output):\n",
    "            fd.write(' '.join(tags))\n",
    "            \n",
    "            if i < len(output) - 1:\n",
    "                fd.write('\\n')\n",
    "            \n",
    "save_output('../data/tags.tsv', y_output)"
   ]
  },
  {
   "cell_type": "markdown",
   "metadata": {},
   "source": [
    "Save preprocessors and model:"
   ]
  },
  {
   "cell_type": "code",
   "execution_count": 13,
   "metadata": {
    "collapsed": false
   },
   "outputs": [],
   "source": [
    "import pickle\n",
    "\n",
    "def save(filename, obj):\n",
    "    pickle.dump(obj, open(filename, 'w'))\n",
    "\n",
    "save('../models/X_preprocessor.pickle', X_preprocessor)\n",
    "save('../models/y_preprocessor.pickle', y_preprocessor)\n",
    "save('../models/clf_{0:.3f}_f1_score.pickle'.format(f1_score), clf)"
   ]
  },
  {
   "cell_type": "markdown",
   "metadata": {},
   "source": [
    "## Load saved model"
   ]
  },
  {
   "cell_type": "code",
   "execution_count": 14,
   "metadata": {
    "collapsed": false
   },
   "outputs": [],
   "source": [
    "def load(filename):\n",
    "    return pickle.load(open(filename))\n",
    "\n",
    "clf = load('../models/clf_0.461_f1_score.pickle')\n",
    "X_preprocessor = load('../models/X_preprocessor.pickle')\n",
    "y_preprocessor = load('../models/y_preprocessor.pickle')"
   ]
  },
  {
   "cell_type": "code",
   "execution_count": null,
   "metadata": {
    "collapsed": true
   },
   "outputs": [],
   "source": []
  }
 ],
 "metadata": {
  "kernelspec": {
   "display_name": "Python 2",
   "language": "python",
   "name": "python2"
  },
  "language_info": {
   "codemirror_mode": {
    "name": "ipython",
    "version": 2
   },
   "file_extension": ".py",
   "mimetype": "text/x-python",
   "name": "python",
   "nbconvert_exporter": "python",
   "pygments_lexer": "ipython2",
   "version": "2.7.12"
  }
 },
 "nbformat": 4,
 "nbformat_minor": 1
}
